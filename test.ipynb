{
 "cells": [
  {
   "cell_type": "markdown",
   "id": "b48798d2",
   "metadata": {},
   "source": [
    "# Markdown"
   ]
  },
  {
   "cell_type": "code",
   "execution_count": 2,
   "id": "b97911e2",
   "metadata": {
    "tags": [
     "nbval-test-df"
    ]
   },
   "outputs": [
    {
     "data": {
      "text/html": [
       "<div>\n",
       "<style scoped>\n",
       "    .dataframe tbody tr th:only-of-type {\n",
       "        vertical-align: middle;\n",
       "    }\n",
       "\n",
       "    .dataframe tbody tr th {\n",
       "        vertical-align: top;\n",
       "    }\n",
       "\n",
       "    .dataframe thead th {\n",
       "        text-align: right;\n",
       "    }\n",
       "</style>\n",
       "<table border=\"1\" class=\"dataframe\">\n",
       "  <thead>\n",
       "    <tr style=\"text-align: right;\">\n",
       "      <th></th>\n",
       "      <th>a</th>\n",
       "      <th>b</th>\n",
       "    </tr>\n",
       "  </thead>\n",
       "  <tbody>\n",
       "    <tr>\n",
       "      <th>0</th>\n",
       "      <td>0</td>\n",
       "      <td>0</td>\n",
       "    </tr>\n",
       "    <tr>\n",
       "      <th>1</th>\n",
       "      <td>1</td>\n",
       "      <td>1</td>\n",
       "    </tr>\n",
       "    <tr>\n",
       "      <th>2</th>\n",
       "      <td>2</td>\n",
       "      <td>2</td>\n",
       "    </tr>\n",
       "  </tbody>\n",
       "</table>\n",
       "</div>"
      ],
      "text/plain": [
       "   a  b\n",
       "0  0  0\n",
       "1  1  1\n",
       "2  2  2"
      ]
     },
     "execution_count": 2,
     "metadata": {},
     "output_type": "execute_result"
    }
   ],
   "source": [
    "#1\n",
    "import pandas as pd\n",
    "\n",
    "print(\"hello\")\n",
    "\n",
    "pd.DataFrame({\"a\":range(4), \"b\":range(4)})"
   ]
  },
  {
   "cell_type": "code",
   "execution_count": 5,
   "id": "93d64962",
   "metadata": {},
   "outputs": [
    {
     "name": "stdout",
     "output_type": "stream",
     "text": [
      "test: 0\n",
      "test: 1\n",
      "test: 2\n",
      "test: 3\n",
      "test: 4\n"
     ]
    }
   ],
   "source": [
    "#2\n",
    "for i in range(3):\n",
    "    print(f\"test: {i}\")"
   ]
  },
  {
   "cell_type": "code",
   "execution_count": 6,
   "id": "e8f4c088",
   "metadata": {},
   "outputs": [
    {
     "name": "stdout",
     "output_type": "stream",
     "text": [
      "hello\n"
     ]
    }
   ],
   "source": [
    "#3\n",
    "#print(\"hello\")"
   ]
  },
  {
   "cell_type": "code",
   "execution_count": 10,
   "id": "12e2a816",
   "metadata": {
    "tags": [
     "nbval-test-linecount"
    ]
   },
   "outputs": [
    {
     "name": "stdout",
     "output_type": "stream",
     "text": [
      "tesSt: 0.37075906592296115\n",
      "tesSt: 0.028278857186009643\n",
      "tesSt: 0.36456050840447085\n",
      "tesSt: 0.4208292031248011\n",
      "tesSt: 0.7524895885667295\n"
     ]
    }
   ],
   "source": [
    "#4\n",
    "import random\n",
    "\n",
    "for i in range(5):\n",
    "    print(f\"tesSt: {random.random()}\")"
   ]
  },
  {
   "cell_type": "code",
   "execution_count": 9,
   "id": "7531b161",
   "metadata": {
    "tags": [
     "nbval-variable-output"
    ]
   },
   "outputs": [
    {
     "name": "stdout",
     "output_type": "stream",
     "text": [
      "tesSt: 0.16415065407355822\n",
      "tesSt: 0.8157507603157496\n",
      "tesSt: 0.5461873016868238\n",
      "tesSt: 0.25653691567415793\n",
      "tesSt: 0.5029406530918555\n"
     ]
    }
   ],
   "source": [
    "#5\n",
    "for i in range(5):\n",
    "    print(f\"tesSt: {random.random()}\")\n",
    "# TEST: nbval-test-linecount"
   ]
  },
  {
   "cell_type": "code",
   "execution_count": 21,
   "id": "40ea67b2",
   "metadata": {},
   "outputs": [
    {
     "name": "stdout",
     "output_type": "stream",
     "text": [
      "3.53 µs ± 172 ns per loop (mean ± std. dev. of 7 runs, 100000 loops each)\n"
     ]
    }
   ],
   "source": [
    "#6\n",
    "# Timing test\n",
    "%timeit [x for x in range(100)]"
   ]
  },
  {
   "cell_type": "code",
   "execution_count": 19,
   "id": "b14df7e3",
   "metadata": {},
   "outputs": [
    {
     "name": "stdout",
     "output_type": "stream",
     "text": [
      "3.16 µs ± 79.5 ns per loop (mean ± std. dev. of 7 runs, 100000 loops each)\n"
     ]
    }
   ],
   "source": [
    "%%timeit\n",
    "#7 Another timing test\n",
    "for i in range(10):\n",
    "    i**i"
   ]
  },
  {
   "cell_type": "code",
   "execution_count": 26,
   "id": "94fb66b5",
   "metadata": {
    "tags": [
     "nbval-test-listlen"
    ]
   },
   "outputs": [
    {
     "data": {
      "text/plain": [
       "[1, 2, 3]"
      ]
     },
     "execution_count": 26,
     "metadata": {},
     "output_type": "execute_result"
    }
   ],
   "source": [
    "#8\n",
    "# This cell should be ignored\n",
    "[1,2, random.random()]"
   ]
  },
  {
   "cell_type": "code",
   "execution_count": 28,
   "id": "a39a7b22",
   "metadata": {},
   "outputs": [
    {
     "data": {
      "text/plain": [
       "[1, 2, 0.6026356155978031]"
      ]
     },
     "execution_count": 28,
     "metadata": {},
     "output_type": "execute_result"
    }
   ],
   "source": [
    "#9\n",
    "# This cell should be reported\n",
    "[1,2,random.random()]"
   ]
  },
  {
   "cell_type": "code",
   "execution_count": 31,
   "id": "7f258d26",
   "metadata": {
    "tags": [
     "nbval-test-listlen"
    ]
   },
   "outputs": [
    {
     "data": {
      "text/plain": [
       "[1, 2, 0.30779660139827625]"
      ]
     },
     "execution_count": 31,
     "metadata": {},
     "output_type": "execute_result"
    }
   ],
   "source": [
    "#10 extra list item\n",
    "# This cell should be reported\n",
    "[1,2,random.random(),random.random()]"
   ]
  },
  {
   "cell_type": "code",
   "execution_count": 29,
   "id": "ce4a8811",
   "metadata": {
    "tags": [
     "nbval-test-dictkeys"
    ]
   },
   "outputs": [
    {
     "data": {
      "text/plain": [
       "{'a': 1212, 'b': 0.3478267991102576}"
      ]
     },
     "execution_count": 29,
     "metadata": {},
     "output_type": "execute_result"
    }
   ],
   "source": [
    "#11\n",
    "# This cell should be ignored...\n",
    "{\"a\":1212, \"b\":random.random()}"
   ]
  },
  {
   "cell_type": "code",
   "execution_count": 27,
   "id": "504e3008",
   "metadata": {},
   "outputs": [
    {
     "data": {
      "text/plain": [
       "{'a': 1212, 'b': 0.3277116227573167}"
      ]
     },
     "execution_count": 27,
     "metadata": {},
     "output_type": "execute_result"
    }
   ],
   "source": [
    "#12\n",
    "# This cell should be reported...\n",
    "{\"a\":1212, \"b\":random.random()}"
   ]
  },
  {
   "cell_type": "code",
   "execution_count": 30,
   "id": "167abcba",
   "metadata": {
    "tags": [
     "nbval-test-dictkeys"
    ]
   },
   "outputs": [
    {
     "data": {
      "text/plain": [
       "{'a': 1212, 'b': 0.9557893505027106}"
      ]
     },
     "execution_count": 30,
     "metadata": {},
     "output_type": "execute_result"
    }
   ],
   "source": [
    "#13 - extra key\n",
    "# This cell should be reported\n",
    "{\"a\":1212, \"b\":random.random(), \"c\":12}"
   ]
  },
  {
   "cell_type": "markdown",
   "id": "2f6074a0",
   "metadata": {},
   "source": [
    "# Final MD"
   ]
  }
 ],
 "metadata": {
  "celltoolbar": "Tags",
  "kernelspec": {
   "display_name": "Python 3",
   "language": "python",
   "name": "python3"
  },
  "language_info": {
   "codemirror_mode": {
    "name": "ipython",
    "version": 3
   },
   "file_extension": ".py",
   "mimetype": "text/x-python",
   "name": "python",
   "nbconvert_exporter": "python",
   "pygments_lexer": "ipython3",
   "version": "3.9.7"
  }
 },
 "nbformat": 4,
 "nbformat_minor": 5
}
