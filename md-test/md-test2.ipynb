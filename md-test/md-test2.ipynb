{
 "cells": [
  {
   "cell_type": "markdown",
   "id": "71c48a10",
   "metadata": {},
   "source": [
    "# Test 1\n",
    "\n",
    "With a speling errors. and incrrect words. asadsd\n",
    "\n",
    "dskfshjdagft\n",
    " sdfdwfdfa\n",
    "\n",
    "Updated."
   ]
  }
 ],
 "metadata": {
  "jupytext": {
   "formats": "md,ipynb"
  },
  "kernelspec": {
   "display_name": "Python 3",
   "language": "python",
   "name": "python3"
  }
 },
 "nbformat": 4,
 "nbformat_minor": 5
}
