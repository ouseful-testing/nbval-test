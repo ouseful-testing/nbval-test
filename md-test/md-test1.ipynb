{
 "cells": [
  {
   "cell_type": "markdown",
   "id": "4570d82e",
   "metadata": {},
   "source": [
    "# Test 1\n",
    "\n",
    "With no spelling errors.\n",
    "\n",
    "At all.\n",
    "\n",
    "None.\n",
    "\n",
    "Updated."
   ]
  }
 ],
 "metadata": {
  "jupytext": {
   "formats": "md,ipynb"
  },
  "kernelspec": {
   "display_name": "Python 3",
   "language": "python",
   "name": "python3"
  }
 },
 "nbformat": 4,
 "nbformat_minor": 5
}
